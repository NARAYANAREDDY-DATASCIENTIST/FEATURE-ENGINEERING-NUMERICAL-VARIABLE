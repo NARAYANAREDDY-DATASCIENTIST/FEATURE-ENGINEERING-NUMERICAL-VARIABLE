{
 "cells": [
  {
   "cell_type": "markdown",
   "metadata": {},
   "source": [
    "## What is a Variable?\n",
    "\n",
    "A variable is any characteristic, number, or quantity that can be measured or counted. The following are examples of variables:\n",
    "\n",
    "- Age (21, 35, 62, ...)\n",
    "- Gender (male, female)\n",
    "- Income (GBP 20000, GBP 35000, GBP 45000, ...)\n",
    "- House price (GBP 350000, GBP 570000, ...)\n",
    "- Country of birth (China, Russia, Costa Rica, ...)\n",
    "- Eye colour (brown, green, blue, ...)\n",
    "- Vehicle make (Ford, Volkswagen, ...)\n",
    "\n",
    "They are called 'variables' because the value they take may vary (and it usually does) in a population. \n",
    "\n",
    "Most variables in a data set can be classified into one of two major types:\n",
    "\n",
    "- **Numerical variables** \n",
    "- **Categorical variables**\n",
    "\n",
    "\n",
    "===================================================================================\n",
    "\n",
    "## Numerical variables\n",
    "\n",
    "The values of a numerical variable are numbers. They can be further classified into discrete and continuous variables.\n",
    "\n",
    "### Discrete numerical variable\n",
    "\n",
    "A variable which values are whole numbers (counts) is called discrete. For example, the number of items bought by a customer in a supermarket is discrete. The customer can buy 1, 25, or 50 items, but not 3.7 items. It is always a round number. The following are examples of discrete variables:\n",
    "\n",
    "- Number of active bank accounts of a borrower (1, 4, 7, ...)\n",
    "- Number of pets in the family\n",
    "- Number of children in the family\n",
    "\n",
    "\n",
    "### Continuous numerical variable\n",
    "\n",
    "A variable that may contain any value within some range is called continuous. For example, the total amount paid by a customer in a supermarket is continuous. The customer can pay, GBP 20.5, GBP 13.10, GBP 83.20 and so on.\n",
    "Other examples of continuous variables are:\n",
    "\n",
    "- House price (in principle, it can take any value) (GBP 350000, 57000, 1000000, ...)\n",
    "- Time spent surfing a website (3.4 seconds, 5.10 seconds, ...)\n",
    "- Total debt as percentage of total income in the last month (0.2, 0.001, 0, 0.75, ...)\n",
    "\n",
    "=============================================================================\n",
    "\n",
    "## Real Life example: Peer to peer lending (Finance)\n",
    "\n",
    "### Lending Club\n",
    "\n",
    "**Lending Club** is a peer-to-peer Lending company based in the US. They match people looking to invest money with people looking to borrow money. When investors invest their money through Lending Club, this money is passed onto borrowers, and when borrowers pay their loans back, the capital plus the interest passes on back to the investors. It is a win for everybody as they can get typically lower loan rates and higher investor returns.\n",
    "\n",
    "If you want to learn more about Lending Club follow this [link](https://www.lendingclub.com/).\n",
    "\n",
    "The Lending Club dataset contains complete loan data for all loans issued through 2007-2015, including the current loan status (Current, Late, Fully Paid, etc.) and latest payment information. Features include credit scores, number of finance inquiries, address including zip codes and state, and collections among others. Collections indicates whether the customer has missed one or more payments and the team is trying to recover their money.\n",
    "\n",
    "The file is a matrix of about 890 thousand observations and 75 variables. More detail on this dataset can be found in [Kaggle's website](https://www.kaggle.com/wendykan/lending-club-loan-data)\n",
    "\n",
    "Let's go ahead and have a look at the variables!"
   ]
  },
  {
   "cell_type": "markdown",
   "metadata": {},
   "source": [
    "====================================================================================================\n",
    "\n",
    "To download the Lending Club loan book from Kaggle go to [this website](https://www.kaggle.com/wendykan/lending-club-loan-data)\n",
    "\n",
    "Scroll down to the bottom of the page, and click on the link 'loan.csv', and then click the 'download' blue button towards the right of the screen, to download the dataset.\n",
    "Unzip it, and save it to a directory of your choice.\n",
    "\n",
    "**Note that you need to be logged in to Kaggle in order to download the datasets**.\n",
    "\n",
    "If you save it in the same directory from which you are running this notebook, then you can load it the same way I will load it below.\n",
    "\n",
    "===================================================================================================="
   ]
  },
  {
   "cell_type": "code",
   "execution_count": 1,
   "metadata": {},
   "outputs": [],
   "source": [
    "import pandas as pd\n",
    "import numpy as np\n",
    "\n",
    "import matplotlib.pyplot as plt\n",
    "%matplotlib inline"
   ]
  },
  {
   "cell_type": "code",
   "execution_count": 2,
   "metadata": {},
   "outputs": [
    {
     "data": {
      "text/html": [
       "<div>\n",
       "<style scoped>\n",
       "    .dataframe tbody tr th:only-of-type {\n",
       "        vertical-align: middle;\n",
       "    }\n",
       "\n",
       "    .dataframe tbody tr th {\n",
       "        vertical-align: top;\n",
       "    }\n",
       "\n",
       "    .dataframe thead th {\n",
       "        text-align: right;\n",
       "    }\n",
       "</style>\n",
       "<table border=\"1\" class=\"dataframe\">\n",
       "  <thead>\n",
       "    <tr style=\"text-align: right;\">\n",
       "      <th></th>\n",
       "      <th>loan_amnt</th>\n",
       "      <th>int_rate</th>\n",
       "      <th>annual_inc</th>\n",
       "      <th>loan_status</th>\n",
       "      <th>open_acc</th>\n",
       "      <th>open_il_12m</th>\n",
       "    </tr>\n",
       "  </thead>\n",
       "  <tbody>\n",
       "    <tr>\n",
       "      <td>34211</td>\n",
       "      <td>5000</td>\n",
       "      <td>14.96%</td>\n",
       "      <td>116300.0</td>\n",
       "      <td>Fully Paid</td>\n",
       "      <td>11</td>\n",
       "      <td>NaN</td>\n",
       "    </tr>\n",
       "    <tr>\n",
       "      <td>36601</td>\n",
       "      <td>9000</td>\n",
       "      <td>13.79%</td>\n",
       "      <td>46500.0</td>\n",
       "      <td>Fully Paid</td>\n",
       "      <td>7</td>\n",
       "      <td>NaN</td>\n",
       "    </tr>\n",
       "    <tr>\n",
       "      <td>31059</td>\n",
       "      <td>15000</td>\n",
       "      <td>10.25%</td>\n",
       "      <td>57600.0</td>\n",
       "      <td>Fully Paid</td>\n",
       "      <td>9</td>\n",
       "      <td>NaN</td>\n",
       "    </tr>\n",
       "    <tr>\n",
       "      <td>2097</td>\n",
       "      <td>10000</td>\n",
       "      <td>12.42%</td>\n",
       "      <td>36000.0</td>\n",
       "      <td>Fully Paid</td>\n",
       "      <td>15</td>\n",
       "      <td>NaN</td>\n",
       "    </tr>\n",
       "    <tr>\n",
       "      <td>32692</td>\n",
       "      <td>15000</td>\n",
       "      <td>16.45%</td>\n",
       "      <td>69830.0</td>\n",
       "      <td>Fully Paid</td>\n",
       "      <td>8</td>\n",
       "      <td>NaN</td>\n",
       "    </tr>\n",
       "  </tbody>\n",
       "</table>\n",
       "</div>"
      ],
      "text/plain": [
       "       loan_amnt int_rate  annual_inc loan_status  open_acc  open_il_12m\n",
       "34211       5000   14.96%    116300.0  Fully Paid        11          NaN\n",
       "36601       9000   13.79%     46500.0  Fully Paid         7          NaN\n",
       "31059      15000   10.25%     57600.0  Fully Paid         9          NaN\n",
       "2097       10000   12.42%     36000.0  Fully Paid        15          NaN\n",
       "32692      15000   16.45%     69830.0  Fully Paid         8          NaN"
      ]
     },
     "execution_count": 2,
     "metadata": {},
     "output_type": "execute_result"
    }
   ],
   "source": [
    "# let's load the dataset with just a few columns and a few rows\n",
    "# to speed things up\n",
    "\n",
    "use_cols = [\n",
    "    'loan_amnt', 'int_rate', 'annual_inc', 'open_acc', 'loan_status',\n",
    "    'open_il_12m'\n",
    "]\n",
    "\n",
    "data = pd.read_csv(\n",
    "    'loan.csv', usecols=use_cols).sample(\n",
    "        10000, random_state=44)  # set a seed for reproducibility\n",
    "\n",
    "data.head()"
   ]
  },
  {
   "cell_type": "markdown",
   "metadata": {},
   "source": [
    "### Continuous Variables"
   ]
  },
  {
   "cell_type": "code",
   "execution_count": 3,
   "metadata": {},
   "outputs": [
    {
     "data": {
      "text/plain": [
       "array([ 5000,  9000, 15000, 10000,  8000, 17000,  7500,  6000, 25000,\n",
       "        2500,  1000,  4000, 28000,  3200,  4200,  4350,  7200,  9125,\n",
       "        9200, 12000,  5500,  1500,  2000,  6400,  2400, 11000,  9975,\n",
       "        4500, 18000,  1400, 30000,  4900,  5775,  8950, 21850,  6525,\n",
       "       24800, 13000,  4750,  6250,  4650,  3000, 24000, 19200, 14000,\n",
       "        7675,  7000,  5300, 10625,  5800, 20000,  3600,  8800,  6600,\n",
       "       21600,  7550, 16000, 11200,  4800,  9175, 12300,  9600,  1250,\n",
       "        7250, 21000,  6350, 19000,  8400, 18200, 14300,  5700,  5600,\n",
       "        3500, 20500, 13600, 11500,  4100, 14675, 12800,  6200,  3250,\n",
       "        5400,  8100,  8875,  8725, 10500,  2200, 35000,  1800, 16750,\n",
       "       19800,  4475,  9500, 10175,  6500, 12500, 20400, 24250, 22200,\n",
       "        3800, 12375,  2800,  2300, 10250, 14400, 13725,  2100, 13325,\n",
       "       12250, 12650, 18400,  9100,  1600,  6150,  6725, 18800, 10950,\n",
       "       13800, 17600, 15200,  6300,  1200,  7400, 14500, 31200,  7100,\n",
       "       19750, 10800,  5575,  5425,  4950, 22750, 23500, 24700, 13200,\n",
       "        8500, 15500, 11400, 23000, 17500, 15600,  6800, 28800,   500,\n",
       "       16800,  5100,  1300, 14250, 15900,  7750, 11975,  3625, 13750,\n",
       "        3450, 13500,  5475, 15025, 26375,  4575,  3050,  6750, 13100,\n",
       "       13250, 15850,  9700, 10750,  7600,  7900, 10600, 10650, 13475,\n",
       "        3775, 14550,  4600,  7125, 14200, 11650, 14975,  3400,  5375,\n",
       "       25600,  5900,  2275,  7450, 26000,  9950,  6700,  6900,  5975,\n",
       "        1750, 29500,  3900,  4400,  2600, 19725,  9900,  3650, 10775,\n",
       "       11300,  9800, 19600, 15350, 10200, 19575,  7800, 21200, 29000,\n",
       "       17200,  3100, 21125, 27000, 11800, 11700, 34475, 18500, 16400,\n",
       "       14950, 16600, 28200, 18250,  8200, 14075, 18550, 22000,  4550,\n",
       "        4375,  9750,  8275, 16450, 10400,  3950,  1375,  9250, 18225,\n",
       "        1700, 24100,  5450, 14125, 13650,  3425, 11100, 25475, 19400,\n",
       "        8600,  7350, 14800,  6100,  4325, 20125,  8550,  5200, 26500,\n",
       "       24575, 23200,  5025,  8700,  4150, 12700, 13700, 31725, 11625,\n",
       "       29100,  2725, 10050, 12600, 31000,  8250,  8325, 14750, 22400,\n",
       "        4275,  6450, 17100,  8175, 12450, 15800, 33000,  5550, 34000,\n",
       "        6375, 17400, 12075,  2750, 19875, 23400, 19500,  7300,  5275,\n",
       "       16500, 21725,  8075,  3700,  5150, 23600, 29700,  2850, 22600,\n",
       "        4775, 17475,  3850, 16250, 32350,  5875, 15250,  3075, 27300,\n",
       "        5050,  2450,  9400,  4925,  2700, 14825,  8575, 10675,  8225,\n",
       "       13300,  3325,  2525, 13350,  4725,  8900, 12175,  2875, 19700,\n",
       "       21250,  8650, 28250, 15775,  2350, 27400, 10300, 11525, 12100,\n",
       "       13775, 10375, 32000,  1850, 22475, 12950,  4975, 25450,  8525,\n",
       "        9425,  7925,  3300,  9300, 18725, 22500, 11850,  7375, 22800,\n",
       "       13400,  7700, 10225,  8375,  7875, 15425, 18825, 11325, 15400,\n",
       "       30800, 24500,  5350, 33950,  5675,  6950, 16425,  9925,  6625,\n",
       "        6475,  5650, 13225, 28100,  8300,  4700,  9775,  5250,  9375,\n",
       "        9525, 23675, 10975, 20800, 21500, 22250, 21225,  3975, 11225,\n",
       "       19075,  6850, 11875, 27575, 23275,  6075, 20675, 12275,  9450,\n",
       "        2325,  8450, 11600,  9550,  7425,  6125, 11025,  5750,  2050,\n",
       "        5825, 10825, 23325,  5625,  1925, 29175, 14850,  4300, 12900,\n",
       "       23450, 18300,  5125, 10725,  2225, 11750, 12925, 21625, 23475,\n",
       "       24600,  2650, 11050, 18750, 13075, 12525, 19425, 11175, 10075,\n",
       "        1675, 12750, 17800, 29800,  1775, 14700, 16300,  4125,  1100,\n",
       "       25875, 16700,  9475,  7775,  9350, 17625, 13175,  1450,  2250,\n",
       "       31300, 16775, 27050,  3825, 11250, 33425, 12400,  9150, 12325,\n",
       "       11725, 17875, 24625, 20050, 13125,  2900,  4250, 23075,  3025,\n",
       "        4050,  8125, 22575,  6025, 19850,  3275, 32250, 25850, 12875,\n",
       "        7075, 20700, 14175, 25400, 23750,  2150,  2125,  1900, 14100,\n",
       "       21400,  6925, 17700, 17925,  6425, 10900, 32875, 31825, 26850,\n",
       "        4850, 16200,  3475,  2575, 31500, 27600,  2475, 12125, 19125,\n",
       "        4625, 17050, 25975,   950, 13675,  8150, 29600, 15650, 11900,\n",
       "       15975, 10575,  9725,  3150, 17225,  4425, 12150, 15175, 26400,\n",
       "       11075, 13425, 30750, 25200,  7025,  3750, 12025,  6575, 15575,\n",
       "       14575, 24750,  7050,  6225,  5525, 25300, 16875,  1875,  3725,\n",
       "       27500,  2975, 28750, 15700,  4525, 14600, 10150,  7150,  1825,\n",
       "       17950, 13900, 33600, 17250, 10425,  4450, 32400,  7275,  3525,\n",
       "       12200, 14275,  4025, 16550,  8750,  8850, 10850, 27525,  7975,\n",
       "       14650, 26800,  2425, 18975, 18600, 13150,  6650, 18150,  2775,\n",
       "        2375,  6825, 15625, 22900, 31700, 16075, 20950, 28625, 12225,\n",
       "        3350,  2550,  6325], dtype=int64)"
      ]
     },
     "execution_count": 3,
     "metadata": {},
     "output_type": "execute_result"
    }
   ],
   "source": [
    "# let's look at the values of the variable loan_amnt\n",
    "# this is the amount of money requested by the borrower\n",
    "# in US dollars\n",
    "\n",
    "data.loan_amnt.unique()"
   ]
  },
  {
   "cell_type": "code",
   "execution_count": 4,
   "metadata": {},
   "outputs": [
    {
     "data": {
      "text/plain": [
       "Text(0, 0.5, 'Number of Loans')"
      ]
     },
     "execution_count": 4,
     "metadata": {},
     "output_type": "execute_result"
    },
    {
     "data": {
      "image/png": "[encoded data removed]",
      "text/plain": [
       "<Figure size 432x288 with 1 Axes>"
      ]
     },
     "metadata": {
      "needs_background": "light"
     },
     "output_type": "display_data"
    }
   ],
   "source": [
    "# let's make an histogram to get familiar with the\n",
    "# distribution of the variable\n",
    "\n",
    "fig = data.loan_amnt.hist(bins=50)\n",
    "fig.set_title('Loan Amount Requested')\n",
    "fig.set_xlabel('Loan Amount')\n",
    "fig.set_ylabel('Number of Loans')"
   ]
  },
  {
   "cell_type": "markdown",
   "metadata": {},
   "source": [
    "The values of the variable vary across the entire range of the variable. This is characteristic of continuous variables.\n",
    "\n",
    "The taller bars correspond to loan sizes of 10000, 15000, 20000, and 35000. There are more loans disbursed for those loan amount values. This indicates that most people tend to ask for these loan amounts. Likely, these particular loan amounts are pre-determined and offered as such in the Lending Club website.\n",
    "\n",
    "Less frequent loan values, like 23,000 or 33,000 could be requested by people who require a specific amount of money for a definite purpose."
   ]
  },
  {
   "cell_type": "code",
   "execution_count": 5,
   "metadata": {
    "scrolled": true
   },
   "outputs": [
    {
     "data": {
      "text/plain": [
       "array(['14.96%', '13.79%', '10.25%', '12.42%', '16.45%', '10.51%',\n",
       "       '8.90%', '11.12%', '11.99%', '9.62%', '16.40%', '8.49%', '7.49%',\n",
       "       '13.61%', '11.83%', '12.22%', '10.14%', '12.21%', '17.14%',\n",
       "       '10.38%', '7.88%', '16.29%', '10.74%', '8.00%', '12.69%', '12.53%',\n",
       "       '6.62%', '13.49%', '5.42%', '15.99%', '14.46%', '15.28%', '10.99%',\n",
       "       '10.62%', '16.89%', '9.91%', '9.63%', '11.49%', '7.66%', '13.11%',\n",
       "       '18.39%', '10.65%', '6.17%', '12.99%', '7.29%', '20.53%', '16.07%',\n",
       "       '11.71%', '14.26%', '15.62%', '9.32%', '13.06%', '13.85%',\n",
       "       '13.22%', '17.99%', '8.88%', '6.99%', '15.70%', '10.00%', '10.37%',\n",
       "       '15.27%', '5.79%', '16.49%', '6.03%', '7.51%', '14.91%', '18.64%',\n",
       "       '11.14%', '13.16%', '12.98%', '15.95%', '7.14%', '6.92%', '7.90%',\n",
       "       '15.65%', '6.76%', '7.40%', '14.42%', '13.24%', '14.72%', '13.92%',\n",
       "       '15.68%', '15.31%', '11.58%', '12.18%', '18.30%', '10.08%',\n",
       "       '15.23%', '10.59%', '14.93%', '11.48%', '14.22%', '11.11%',\n",
       "       '17.56%', '14.65%', '20.89%', '15.96%', '6.54%', '19.03%',\n",
       "       '13.47%', '14.74%', '17.49%', '12.29%', '11.03%', '10.36%',\n",
       "       '15.05%', '7.43%', '15.76%', '6.91%', '17.27%', '16.77%', '19.42%',\n",
       "       '20.62%', '17.04%', '15.21%', '5.99%', '12.23%', '17.51%', '9.99%',\n",
       "       '14.79%', '14.27%', '10.75%', '14.61%', '15.20%', '13.80%',\n",
       "       '10.95%', '12.87%', '16.32%', '16.00%', '19.69%', '13.98%',\n",
       "       '19.04%', '11.72%', '11.86%', '9.83%', '19.91%', '20.30%',\n",
       "       '18.25%', '17.88%', '15.37%', '21.67%', '17.93%', '14.35%',\n",
       "       '11.36%', '10.71%', '9.25%', '11.26%', '15.57%', '8.59%', '9.88%',\n",
       "       '12.68%', '23.52%', '21.74%', '7.74%', '14.83%', '18.07%',\n",
       "       '14.84%', '7.68%', '12.73%', '12.61%', '16.82%', '17.19%',\n",
       "       '21.28%', '13.99%', '15.58%', '13.43%', '11.46%', '8.32%',\n",
       "       '13.72%', '16.02%', '21.21%', '14.17%', '13.57%', '18.17%',\n",
       "       '16.35%', '11.28%', '20.40%', '12.84%', '17.58%', '9.76%',\n",
       "       '12.72%', '10.78%', '7.12%', '8.94%', '7.05%', '18.99%', '10.33%',\n",
       "       '9.07%', '11.89%', '20.25%', '20.11%', '17.54%', '11.66%',\n",
       "       '18.67%', '8.38%', '16.70%', '19.29%', '17.74%', '8.07%', '20.99%',\n",
       "       '10.96%', '13.35%', '9.45%', '18.79%', '14.54%', '22.48%', '7.75%',\n",
       "       '11.34%', '12.62%', '20.03%', '24.11%', '19.74%', '22.11%',\n",
       "       '22.06%', '14.11%', '18.53%', '16.69%', '11.97%', '15.33%',\n",
       "       '13.48%', '13.04%', '6.39%', '17.43%', '14.09%', '14.18%',\n",
       "       '21.36%', '14.59%', '13.55%', '19.41%', '14.67%', '12.92%',\n",
       "       '8.63%', '22.94%', '11.22%', '9.38%', '20.16%', '19.36%', '13.23%',\n",
       "       '14.62%', '18.62%', '13.36%', '17.39%', '18.43%', '16.95%',\n",
       "       '9.01%', '9.33%', '22.64%', '7.37%', '13.12%', '23.91%', '10.39%',\n",
       "       '22.74%', '17.06%', '22.35%', '13.67%', '11.78%', '12.54%',\n",
       "       '10.46%', '19.82%', '21.82%', '11.91%', '8.70%', '12.41%',\n",
       "       '18.54%', '7.91%', '23.13%', '12.09%', '16.63%', '14.70%',\n",
       "       '20.48%', '10.20%', '12.17%', '14.88%', '11.59%', '19.16%',\n",
       "       '9.20%', '21.22%', '20.85%', '9.64%', '10.83%', '18.49%', '11.63%',\n",
       "       '23.22%', '20.77%', '13.87%', '10.01%', '13.84%', '9.51%',\n",
       "       '19.79%', '20.90%', '11.54%', '6.00%', '14.50%', '13.62%',\n",
       "       '12.86%', '13.30%', '12.36%', '15.45%', '17.80%', '9.70%',\n",
       "       '18.09%', '14.30%', '19.47%', '14.25%', '20.20%', '18.78%',\n",
       "       '15.25%', '14.75%', '13.75%', '12.12%', '16.11%', '10.28%',\n",
       "       '22.85%', '18.36%', '15.38%', '19.13%', '16.96%', '13.17%',\n",
       "       '9.67%', '9.96%', '24.59%', '16.71%', '14.12%', '21.64%', '17.26%',\n",
       "       '19.66%', '17.15%', '18.72%', '16.59%', '16.08%', '21.27%',\n",
       "       '21.59%', '12.49%', '23.59%', '19.39%', '11.09%', '18.91%',\n",
       "       '15.13%'], dtype=object)"
      ]
     },
     "execution_count": 5,
     "metadata": {},
     "output_type": "execute_result"
    }
   ],
   "source": [
    "# let's do the same exercise for the variable interest rate,\n",
    "# which is charged by lending club to the borrowers\n",
    "\n",
    "data.int_rate.unique()"
   ]
  },
  {
   "cell_type": "code",
   "execution_count": 6,
   "metadata": {},
   "outputs": [
    {
     "data": {
      "text/plain": [
       "Text(0, 0.5, 'Number of Loans')"
      ]
     },
     "execution_count": 6,
     "metadata": {},
     "output_type": "execute_result"
    },
    {
     "data": {
      "image/png": "[encoded data removed]",
      "text/plain": [
       "<Figure size 432x288 with 1 Axes>"
      ]
     },
     "metadata": {
      "needs_background": "light"
     },
     "output_type": "display_data"
    }
   ],
   "source": [
    "# let's make an histogram to get familiar with the\n",
    "# distribution of the variable\n",
    "\n",
    "fig = data.int_rate.hist(bins=30)\n",
    "fig.set_title('Interest Rate')\n",
    "fig.set_xlabel('Interest Rate')\n",
    "fig.set_ylabel('Number of Loans')"
   ]
  },
  {
   "cell_type": "markdown",
   "metadata": {},
   "source": [
    "Again, we see that the values of the variable vary continuously across the variable range."
   ]
  },
  {
   "cell_type": "code",
   "execution_count": 7,
   "metadata": {},
   "outputs": [
    {
     "data": {
      "text/plain": [
       "Text(0, 0.5, 'Number of Customers')"
      ]
     },
     "execution_count": 7,
     "metadata": {},
     "output_type": "execute_result"
    },
    {
     "data": {
      "image/png": "[encoded data removed]",
      "text/plain": [
       "<Figure size 432x288 with 1 Axes>"
      ]
     },
     "metadata": {
      "needs_background": "light"
     },
     "output_type": "display_data"
    }
   ],
   "source": [
    "# and now,let's explore the income declared by the customers,\n",
    "# that is, how much they earn yearly.\n",
    "\n",
    "fig = data.annual_inc.hist(bins=100)\n",
    "fig.set_xlim(0, 400000)\n",
    "fig.set_title(\"Customer's Annual Income\")\n",
    "fig.set_xlabel('Annual Income')\n",
    "fig.set_ylabel('Number of Customers')"
   ]
  },
  {
   "cell_type": "markdown",
   "metadata": {},
   "source": [
    "The majority of salaries are concentrated towards values in the range 30-70 k, with only a few customers earning higher salaries. Again, the values of the variable, vary continuosly across the variable range."
   ]
  },
  {
   "cell_type": "markdown",
   "metadata": {},
   "source": [
    "### Discrete Variables"
   ]
  },
  {
   "cell_type": "markdown",
   "metadata": {},
   "source": [
    "Let's explore the variable \"Number of open credit lines in the borrower's credit file\" (open_acc in the dataset). This is, the total number of credit items (for example, credit cards, car loans, mortgages, etc) that is known for that borrower. By definition it is a discrete variable, because a borrower can have 1 credit card, but not 3.5 credit cards."
   ]
  },
  {
   "cell_type": "code",
   "execution_count": 8,
   "metadata": {},
   "outputs": [
    {
     "data": {
      "text/plain": [
       "array([11,  7,  9, 15,  8, 10, 12, 19,  5,  3,  2, 14, 18,  6,  4, 13, 21,\n",
       "       22, 27, 16, 20, 32, 17, 28, 26, 25, 29, 24, 23, 30, 35, 36],\n",
       "      dtype=int64)"
      ]
     },
     "execution_count": 8,
     "metadata": {},
     "output_type": "execute_result"
    }
   ],
   "source": [
    "# let's inspect the values of the variable\n",
    "\n",
    "data.open_acc.dropna().unique()"
   ]
  },
  {
   "cell_type": "code",
   "execution_count": 9,
   "metadata": {},
   "outputs": [
    {
     "data": {
      "text/plain": [
       "Text(0, 0.5, 'Number of Customers')"
      ]
     },
     "execution_count": 9,
     "metadata": {},
     "output_type": "execute_result"
    },
    {
     "data": {
      "image/png": "[encoded data removed]",
      "text/plain": [
       "<Figure size 432x288 with 1 Axes>"
      ]
     },
     "metadata": {
      "needs_background": "light"
     },
     "output_type": "display_data"
    }
   ],
   "source": [
    "# let's make an histogram to get familiar with the\n",
    "# distribution of the variable\n",
    "\n",
    "fig = data.open_acc.hist(bins=100)\n",
    "fig.set_xlim(0, 30)\n",
    "fig.set_title('Number of open accounts')\n",
    "fig.set_xlabel('Number of open accounts')\n",
    "fig.set_ylabel('Number of Customers')"
   ]
  },
  {
   "cell_type": "markdown",
   "metadata": {},
   "source": [
    "Histograms of discrete variables have this typical broken shape, as not all the values within the variable range are present in the variable. As I said, the customer can have 3 credit cards, but not 3,5 credit cards.\n",
    "\n",
    "Let's look at another example of a discrete variable in this dataset: **Number of installment accounts opened in past 12 months** (open_il_12m in the dataset). Installment accounts are those that at the moment of acquiring them, there is a set period and amount of repayments agreed between the lender and borrower. An example of this is a car loan, or a student loan. The borrower knows that they are going to pay a certain, fixed amount over for example 36 months."
   ]
  },
  {
   "cell_type": "code",
   "execution_count": 10,
   "metadata": {},
   "outputs": [
    {
     "data": {
      "text/plain": [
       "array([nan])"
      ]
     },
     "execution_count": 10,
     "metadata": {},
     "output_type": "execute_result"
    }
   ],
   "source": [
    "# let's inspect the variable values\n",
    "\n",
    "data.open_il_12m.unique()"
   ]
  },
  {
   "cell_type": "code",
   "execution_count": 11,
   "metadata": {},
   "outputs": [
    {
     "data": {
      "text/plain": [
       "Text(0, 0.5, 'Number of Borrowers')"
      ]
     },
     "execution_count": 11,
     "metadata": {},
     "output_type": "execute_result"
    },
    {
     "data": {
      "image/png": "[encoded data removed]",
      "text/plain": [
       "<Figure size 432x288 with 1 Axes>"
      ]
     },
     "metadata": {
      "needs_background": "light"
     },
     "output_type": "display_data"
    }
   ],
   "source": [
    "# let's make an histogram to get familiar with the\n",
    "# distribution of the variable\n",
    "\n",
    "fig = data.open_il_12m.hist(bins=50)\n",
    "fig.set_title('Number of installment accounts opened in past 12 months')\n",
    "fig.set_xlabel('Number of installment accounts opened in past 12 months')\n",
    "fig.set_ylabel('Number of Borrowers')"
   ]
  },
  {
   "cell_type": "markdown",
   "metadata": {},
   "source": [
    "The majority of the borrowers have none or 1 installment account, with only a few borrowers having more than 2."
   ]
  },
  {
   "cell_type": "markdown",
   "metadata": {},
   "source": [
    "### A variation of discrete variables: the binary variable\n",
    "\n",
    "Binary variables, are discrete variables, that can take only 2 values, therefore binary.\n",
    "\n",
    "In the next cells I will create an additional variable, called defaulted, to capture the number of loans that have defaulted. A defaulted loan is a loan that a customer has failed to re-pay and the money is lost.\n",
    "\n",
    "The variable takes the values 0 where the loans are ok and being re-paid regularly, or 1, when the borrower has confirmed that will not be able to re-pay the borrowed amount."
   ]
  },
  {
   "cell_type": "code",
   "execution_count": 12,
   "metadata": {},
   "outputs": [
    {
     "data": {
      "text/plain": [
       "array(['Fully Paid', 'Charged Off', 'Current'], dtype=object)"
      ]
     },
     "execution_count": 12,
     "metadata": {},
     "output_type": "execute_result"
    }
   ],
   "source": [
    "# let's inspect the values of the variable loan status\n",
    "\n",
    "data.loan_status.unique()"
   ]
  },
  {
   "cell_type": "code",
   "execution_count": 13,
   "metadata": {},
   "outputs": [
    {
     "data": {
      "text/plain": [
       "0.0"
      ]
     },
     "execution_count": 13,
     "metadata": {},
     "output_type": "execute_result"
    }
   ],
   "source": [
    "# let's create one additional variable called defaulted.\n",
    "# This variable indicates if the loan has defaulted, which means,\n",
    "# if the borrower failed to re-pay the loan, and the money\n",
    "# is deemed lost.\n",
    "\n",
    "data['defaulted'] = np.where(data.loan_status.isin(['Default']), 1, 0)\n",
    "data.defaulted.mean()"
   ]
  },
  {
   "cell_type": "code",
   "execution_count": 14,
   "metadata": {},
   "outputs": [
    {
     "data": {
      "text/html": [
       "<div>\n",
       "<style scoped>\n",
       "    .dataframe tbody tr th:only-of-type {\n",
       "        vertical-align: middle;\n",
       "    }\n",
       "\n",
       "    .dataframe tbody tr th {\n",
       "        vertical-align: top;\n",
       "    }\n",
       "\n",
       "    .dataframe thead th {\n",
       "        text-align: right;\n",
       "    }\n",
       "</style>\n",
       "<table border=\"1\" class=\"dataframe\">\n",
       "  <thead>\n",
       "    <tr style=\"text-align: right;\">\n",
       "      <th></th>\n",
       "      <th>loan_amnt</th>\n",
       "      <th>int_rate</th>\n",
       "      <th>annual_inc</th>\n",
       "      <th>loan_status</th>\n",
       "      <th>open_acc</th>\n",
       "      <th>open_il_12m</th>\n",
       "      <th>defaulted</th>\n",
       "    </tr>\n",
       "  </thead>\n",
       "  <tbody>\n",
       "    <tr>\n",
       "      <td>34211</td>\n",
       "      <td>5000</td>\n",
       "      <td>14.96%</td>\n",
       "      <td>116300.0</td>\n",
       "      <td>Fully Paid</td>\n",
       "      <td>11</td>\n",
       "      <td>NaN</td>\n",
       "      <td>0</td>\n",
       "    </tr>\n",
       "    <tr>\n",
       "      <td>36601</td>\n",
       "      <td>9000</td>\n",
       "      <td>13.79%</td>\n",
       "      <td>46500.0</td>\n",
       "      <td>Fully Paid</td>\n",
       "      <td>7</td>\n",
       "      <td>NaN</td>\n",
       "      <td>0</td>\n",
       "    </tr>\n",
       "    <tr>\n",
       "      <td>31059</td>\n",
       "      <td>15000</td>\n",
       "      <td>10.25%</td>\n",
       "      <td>57600.0</td>\n",
       "      <td>Fully Paid</td>\n",
       "      <td>9</td>\n",
       "      <td>NaN</td>\n",
       "      <td>0</td>\n",
       "    </tr>\n",
       "    <tr>\n",
       "      <td>2097</td>\n",
       "      <td>10000</td>\n",
       "      <td>12.42%</td>\n",
       "      <td>36000.0</td>\n",
       "      <td>Fully Paid</td>\n",
       "      <td>15</td>\n",
       "      <td>NaN</td>\n",
       "      <td>0</td>\n",
       "    </tr>\n",
       "    <tr>\n",
       "      <td>32692</td>\n",
       "      <td>15000</td>\n",
       "      <td>16.45%</td>\n",
       "      <td>69830.0</td>\n",
       "      <td>Fully Paid</td>\n",
       "      <td>8</td>\n",
       "      <td>NaN</td>\n",
       "      <td>0</td>\n",
       "    </tr>\n",
       "  </tbody>\n",
       "</table>\n",
       "</div>"
      ],
      "text/plain": [
       "       loan_amnt int_rate  annual_inc loan_status  open_acc  open_il_12m  \\\n",
       "34211       5000   14.96%    116300.0  Fully Paid        11          NaN   \n",
       "36601       9000   13.79%     46500.0  Fully Paid         7          NaN   \n",
       "31059      15000   10.25%     57600.0  Fully Paid         9          NaN   \n",
       "2097       10000   12.42%     36000.0  Fully Paid        15          NaN   \n",
       "32692      15000   16.45%     69830.0  Fully Paid         8          NaN   \n",
       "\n",
       "       defaulted  \n",
       "34211          0  \n",
       "36601          0  \n",
       "31059          0  \n",
       "2097           0  \n",
       "32692          0  "
      ]
     },
     "execution_count": 14,
     "metadata": {},
     "output_type": "execute_result"
    }
   ],
   "source": [
    "# the new variable takes the value of 0\n",
    "# if the loan is not defaulted\n",
    "\n",
    "data.head()"
   ]
  },
  {
   "cell_type": "code",
   "execution_count": 15,
   "metadata": {},
   "outputs": [
    {
     "data": {
      "text/html": [
       "<div>\n",
       "<style scoped>\n",
       "    .dataframe tbody tr th:only-of-type {\n",
       "        vertical-align: middle;\n",
       "    }\n",
       "\n",
       "    .dataframe tbody tr th {\n",
       "        vertical-align: top;\n",
       "    }\n",
       "\n",
       "    .dataframe thead th {\n",
       "        text-align: right;\n",
       "    }\n",
       "</style>\n",
       "<table border=\"1\" class=\"dataframe\">\n",
       "  <thead>\n",
       "    <tr style=\"text-align: right;\">\n",
       "      <th></th>\n",
       "      <th>loan_amnt</th>\n",
       "      <th>int_rate</th>\n",
       "      <th>annual_inc</th>\n",
       "      <th>loan_status</th>\n",
       "      <th>open_acc</th>\n",
       "      <th>open_il_12m</th>\n",
       "      <th>defaulted</th>\n",
       "    </tr>\n",
       "  </thead>\n",
       "  <tbody>\n",
       "  </tbody>\n",
       "</table>\n",
       "</div>"
      ],
      "text/plain": [
       "Empty DataFrame\n",
       "Columns: [loan_amnt, int_rate, annual_inc, loan_status, open_acc, open_il_12m, defaulted]\n",
       "Index: []"
      ]
     },
     "execution_count": 15,
     "metadata": {},
     "output_type": "execute_result"
    }
   ],
   "source": [
    "# the new variable takes the value 1 for loans that\n",
    "# are defaulted\n",
    "\n",
    "data[data.loan_status.isin(['Default'])].head()"
   ]
  },
  {
   "cell_type": "code",
   "execution_count": 16,
   "metadata": {},
   "outputs": [
    {
     "data": {
      "text/plain": [
       "array([0], dtype=int64)"
      ]
     },
     "execution_count": 16,
     "metadata": {},
     "output_type": "execute_result"
    }
   ],
   "source": [
    "# A binary variable, can take 2 values. For example,\n",
    "# the variable defaulted that we just created:\n",
    "# either the loan is defaulted (1) or not (0)\n",
    "\n",
    "data.defaulted.unique()"
   ]
  },
  {
   "cell_type": "code",
   "execution_count": 17,
   "metadata": {},
   "outputs": [
    {
     "data": {
      "text/plain": [
       "Text(0, 0.5, 'Number of Loans')"
      ]
     },
     "execution_count": 17,
     "metadata": {},
     "output_type": "execute_result"
    },
    {
     "data": {
      "image/png": "[encoded data removed]",
      "text/plain": [
       "<Figure size 432x288 with 1 Axes>"
      ]
     },
     "metadata": {
      "needs_background": "light"
     },
     "output_type": "display_data"
    }
   ],
   "source": [
    "# let's make a histogram, although histograms for\n",
    "# binary variables do not make a lot of sense\n",
    "\n",
    "fig = data.defaulted.hist()\n",
    "fig.set_xlim(0, 2)\n",
    "fig.set_title('Defaulted accounts')\n",
    "fig.set_xlabel('Defaulted')\n",
    "fig.set_ylabel('Number of Loans')"
   ]
  },
  {
   "cell_type": "markdown",
   "metadata": {},
   "source": [
    "As we can see, the variable shows only 2 values, 0 and 1, and the majority of the loans are ok.\n",
    "\n",
    "**That is all for this demonstration. I hope you enjoyed the notebook, and see you in the next one.**"
   ]
  },
  {
   "cell_type": "code",
   "execution_count": null,
   "metadata": {},
   "outputs": [],
   "source": []
  },
  {
   "cell_type": "code",
   "execution_count": null,
   "metadata": {},
   "outputs": [],
   "source": []
  }
 ],
 "metadata": {
  "kernelspec": {
   "display_name": "Python 3",
   "language": "python",
   "name": "python3"
  },
  "language_info": {
   "codemirror_mode": {
    "name": "ipython",
    "version": 3
   },
   "file_extension": ".py",
   "mimetype": "text/x-python",
   "name": "python",
   "nbconvert_exporter": "python",
   "pygments_lexer": "ipython3",
   "version": "3.7.4"
  },
  "toc": {
   "nav_menu": {},
   "number_sections": true,
   "sideBar": true,
   "skip_h1_title": false,
   "toc_cell": false,
   "toc_position": {},
   "toc_section_display": "block",
   "toc_window_display": true
  },
  "widgets": {
   "state": {},
   "version": "1.1.2"
  }
 },
 "nbformat": 4,
 "nbformat_minor": 1
}
